{
 "cells": [
  {
   "cell_type": "markdown",
   "id": "cdc39cb6",
   "metadata": {},
   "source": [
    "# Proyecto clasificacion de noticias"
   ]
  },
  {
   "cell_type": "code",
   "execution_count": 1,
   "id": "26e73ec1",
   "metadata": {},
   "outputs": [],
   "source": [
    "import pandas as pd\n",
    "import numpy as np"
   ]
  },
  {
   "cell_type": "markdown",
   "id": "a86d74de",
   "metadata": {},
   "source": [
    "## Leer DataFrame"
   ]
  },
  {
   "cell_type": "code",
   "execution_count": 2,
   "id": "6cb4c6d0",
   "metadata": {},
   "outputs": [
    {
     "data": {
      "text/html": [
       "<div>\n",
       "<style scoped>\n",
       "    .dataframe tbody tr th:only-of-type {\n",
       "        vertical-align: middle;\n",
       "    }\n",
       "\n",
       "    .dataframe tbody tr th {\n",
       "        vertical-align: top;\n",
       "    }\n",
       "\n",
       "    .dataframe thead th {\n",
       "        text-align: right;\n",
       "    }\n",
       "</style>\n",
       "<table border=\"1\" class=\"dataframe\">\n",
       "  <thead>\n",
       "    <tr style=\"text-align: right;\">\n",
       "      <th></th>\n",
       "      <th>category</th>\n",
       "      <th>headline</th>\n",
       "      <th>authors</th>\n",
       "      <th>link</th>\n",
       "      <th>short_description</th>\n",
       "      <th>date</th>\n",
       "    </tr>\n",
       "  </thead>\n",
       "  <tbody>\n",
       "    <tr>\n",
       "      <th>0</th>\n",
       "      <td>CRIME</td>\n",
       "      <td>There Were 2 Mass Shootings In Texas Last Week...</td>\n",
       "      <td>Melissa Jeltsen</td>\n",
       "      <td>https://www.huffingtonpost.com/entry/texas-ama...</td>\n",
       "      <td>She left her husband. He killed their children...</td>\n",
       "      <td>2018-05-26</td>\n",
       "    </tr>\n",
       "    <tr>\n",
       "      <th>1</th>\n",
       "      <td>ENTERTAINMENT</td>\n",
       "      <td>Will Smith Joins Diplo And Nicky Jam For The 2...</td>\n",
       "      <td>Andy McDonald</td>\n",
       "      <td>https://www.huffingtonpost.com/entry/will-smit...</td>\n",
       "      <td>Of course it has a song.</td>\n",
       "      <td>2018-05-26</td>\n",
       "    </tr>\n",
       "    <tr>\n",
       "      <th>2</th>\n",
       "      <td>ENTERTAINMENT</td>\n",
       "      <td>Hugh Grant Marries For The First Time At Age 57</td>\n",
       "      <td>Ron Dicker</td>\n",
       "      <td>https://www.huffingtonpost.com/entry/hugh-gran...</td>\n",
       "      <td>The actor and his longtime girlfriend Anna Ebe...</td>\n",
       "      <td>2018-05-26</td>\n",
       "    </tr>\n",
       "    <tr>\n",
       "      <th>3</th>\n",
       "      <td>ENTERTAINMENT</td>\n",
       "      <td>Jim Carrey Blasts 'Castrato' Adam Schiff And D...</td>\n",
       "      <td>Ron Dicker</td>\n",
       "      <td>https://www.huffingtonpost.com/entry/jim-carre...</td>\n",
       "      <td>The actor gives Dems an ass-kicking for not fi...</td>\n",
       "      <td>2018-05-26</td>\n",
       "    </tr>\n",
       "    <tr>\n",
       "      <th>4</th>\n",
       "      <td>ENTERTAINMENT</td>\n",
       "      <td>Julianna Margulies Uses Donald Trump Poop Bags...</td>\n",
       "      <td>Ron Dicker</td>\n",
       "      <td>https://www.huffingtonpost.com/entry/julianna-...</td>\n",
       "      <td>The \"Dietland\" actress said using the bags is ...</td>\n",
       "      <td>2018-05-26</td>\n",
       "    </tr>\n",
       "    <tr>\n",
       "      <th>...</th>\n",
       "      <td>...</td>\n",
       "      <td>...</td>\n",
       "      <td>...</td>\n",
       "      <td>...</td>\n",
       "      <td>...</td>\n",
       "      <td>...</td>\n",
       "    </tr>\n",
       "    <tr>\n",
       "      <th>200848</th>\n",
       "      <td>TECH</td>\n",
       "      <td>RIM CEO Thorsten Heins' 'Significant' Plans Fo...</td>\n",
       "      <td>Reuters, Reuters</td>\n",
       "      <td>https://www.huffingtonpost.com/entry/rim-ceo-t...</td>\n",
       "      <td>Verizon Wireless and AT&amp;T are already promotin...</td>\n",
       "      <td>2012-01-28</td>\n",
       "    </tr>\n",
       "    <tr>\n",
       "      <th>200849</th>\n",
       "      <td>SPORTS</td>\n",
       "      <td>Maria Sharapova Stunned By Victoria Azarenka I...</td>\n",
       "      <td></td>\n",
       "      <td>https://www.huffingtonpost.com/entry/maria-sha...</td>\n",
       "      <td>Afterward, Azarenka, more effusive with the pr...</td>\n",
       "      <td>2012-01-28</td>\n",
       "    </tr>\n",
       "    <tr>\n",
       "      <th>200850</th>\n",
       "      <td>SPORTS</td>\n",
       "      <td>Giants Over Patriots, Jets Over Colts Among  M...</td>\n",
       "      <td></td>\n",
       "      <td>https://www.huffingtonpost.com/entry/super-bow...</td>\n",
       "      <td>Leading up to Super Bowl XLVI, the most talked...</td>\n",
       "      <td>2012-01-28</td>\n",
       "    </tr>\n",
       "    <tr>\n",
       "      <th>200851</th>\n",
       "      <td>SPORTS</td>\n",
       "      <td>Aldon Smith Arrested: 49ers Linebacker Busted ...</td>\n",
       "      <td></td>\n",
       "      <td>https://www.huffingtonpost.com/entry/aldon-smi...</td>\n",
       "      <td>CORRECTION: An earlier version of this story i...</td>\n",
       "      <td>2012-01-28</td>\n",
       "    </tr>\n",
       "    <tr>\n",
       "      <th>200852</th>\n",
       "      <td>SPORTS</td>\n",
       "      <td>Dwight Howard Rips Teammates After Magic Loss ...</td>\n",
       "      <td></td>\n",
       "      <td>https://www.huffingtonpost.com/entry/dwight-ho...</td>\n",
       "      <td>The five-time all-star center tore into his te...</td>\n",
       "      <td>2012-01-28</td>\n",
       "    </tr>\n",
       "  </tbody>\n",
       "</table>\n",
       "<p>200853 rows × 6 columns</p>\n",
       "</div>"
      ],
      "text/plain": [
       "             category                                           headline  \\\n",
       "0               CRIME  There Were 2 Mass Shootings In Texas Last Week...   \n",
       "1       ENTERTAINMENT  Will Smith Joins Diplo And Nicky Jam For The 2...   \n",
       "2       ENTERTAINMENT    Hugh Grant Marries For The First Time At Age 57   \n",
       "3       ENTERTAINMENT  Jim Carrey Blasts 'Castrato' Adam Schiff And D...   \n",
       "4       ENTERTAINMENT  Julianna Margulies Uses Donald Trump Poop Bags...   \n",
       "...               ...                                                ...   \n",
       "200848           TECH  RIM CEO Thorsten Heins' 'Significant' Plans Fo...   \n",
       "200849         SPORTS  Maria Sharapova Stunned By Victoria Azarenka I...   \n",
       "200850         SPORTS  Giants Over Patriots, Jets Over Colts Among  M...   \n",
       "200851         SPORTS  Aldon Smith Arrested: 49ers Linebacker Busted ...   \n",
       "200852         SPORTS  Dwight Howard Rips Teammates After Magic Loss ...   \n",
       "\n",
       "                 authors                                               link  \\\n",
       "0        Melissa Jeltsen  https://www.huffingtonpost.com/entry/texas-ama...   \n",
       "1          Andy McDonald  https://www.huffingtonpost.com/entry/will-smit...   \n",
       "2             Ron Dicker  https://www.huffingtonpost.com/entry/hugh-gran...   \n",
       "3             Ron Dicker  https://www.huffingtonpost.com/entry/jim-carre...   \n",
       "4             Ron Dicker  https://www.huffingtonpost.com/entry/julianna-...   \n",
       "...                  ...                                                ...   \n",
       "200848  Reuters, Reuters  https://www.huffingtonpost.com/entry/rim-ceo-t...   \n",
       "200849                    https://www.huffingtonpost.com/entry/maria-sha...   \n",
       "200850                    https://www.huffingtonpost.com/entry/super-bow...   \n",
       "200851                    https://www.huffingtonpost.com/entry/aldon-smi...   \n",
       "200852                    https://www.huffingtonpost.com/entry/dwight-ho...   \n",
       "\n",
       "                                        short_description       date  \n",
       "0       She left her husband. He killed their children... 2018-05-26  \n",
       "1                                Of course it has a song. 2018-05-26  \n",
       "2       The actor and his longtime girlfriend Anna Ebe... 2018-05-26  \n",
       "3       The actor gives Dems an ass-kicking for not fi... 2018-05-26  \n",
       "4       The \"Dietland\" actress said using the bags is ... 2018-05-26  \n",
       "...                                                   ...        ...  \n",
       "200848  Verizon Wireless and AT&T are already promotin... 2012-01-28  \n",
       "200849  Afterward, Azarenka, more effusive with the pr... 2012-01-28  \n",
       "200850  Leading up to Super Bowl XLVI, the most talked... 2012-01-28  \n",
       "200851  CORRECTION: An earlier version of this story i... 2012-01-28  \n",
       "200852  The five-time all-star center tore into his te... 2012-01-28  \n",
       "\n",
       "[200853 rows x 6 columns]"
      ]
     },
     "execution_count": 2,
     "metadata": {},
     "output_type": "execute_result"
    }
   ],
   "source": [
    "df=pd.read_json('datos.json', lines=True)\n",
    "df"
   ]
  },
  {
   "cell_type": "code",
   "execution_count": 3,
   "id": "85107c19",
   "metadata": {},
   "outputs": [
    {
     "name": "stderr",
     "output_type": "stream",
     "text": [
      "C:\\Users\\szilom_2\\AppData\\Local\\Temp/ipykernel_6756/3627053830.py:1: FutureWarning: Treating datetime data as categorical rather than numeric in `.describe` is deprecated and will be removed in a future version of pandas. Specify `datetime_is_numeric=True` to silence this warning and adopt the future behavior now.\n",
      "  df.describe()\n"
     ]
    },
    {
     "data": {
      "text/html": [
       "<div>\n",
       "<style scoped>\n",
       "    .dataframe tbody tr th:only-of-type {\n",
       "        vertical-align: middle;\n",
       "    }\n",
       "\n",
       "    .dataframe tbody tr th {\n",
       "        vertical-align: top;\n",
       "    }\n",
       "\n",
       "    .dataframe thead th {\n",
       "        text-align: right;\n",
       "    }\n",
       "</style>\n",
       "<table border=\"1\" class=\"dataframe\">\n",
       "  <thead>\n",
       "    <tr style=\"text-align: right;\">\n",
       "      <th></th>\n",
       "      <th>category</th>\n",
       "      <th>headline</th>\n",
       "      <th>authors</th>\n",
       "      <th>link</th>\n",
       "      <th>short_description</th>\n",
       "      <th>date</th>\n",
       "    </tr>\n",
       "  </thead>\n",
       "  <tbody>\n",
       "    <tr>\n",
       "      <th>count</th>\n",
       "      <td>200853</td>\n",
       "      <td>200853</td>\n",
       "      <td>200853</td>\n",
       "      <td>200853</td>\n",
       "      <td>200853</td>\n",
       "      <td>200853</td>\n",
       "    </tr>\n",
       "    <tr>\n",
       "      <th>unique</th>\n",
       "      <td>41</td>\n",
       "      <td>199344</td>\n",
       "      <td>27993</td>\n",
       "      <td>200812</td>\n",
       "      <td>178353</td>\n",
       "      <td>2309</td>\n",
       "    </tr>\n",
       "    <tr>\n",
       "      <th>top</th>\n",
       "      <td>POLITICS</td>\n",
       "      <td>Sunday Roundup</td>\n",
       "      <td></td>\n",
       "      <td>https://www.huffingtonpost.comhttp://pubx.co/p...</td>\n",
       "      <td></td>\n",
       "      <td>2012-12-21 00:00:00</td>\n",
       "    </tr>\n",
       "    <tr>\n",
       "      <th>freq</th>\n",
       "      <td>32739</td>\n",
       "      <td>90</td>\n",
       "      <td>36620</td>\n",
       "      <td>2</td>\n",
       "      <td>19712</td>\n",
       "      <td>100</td>\n",
       "    </tr>\n",
       "    <tr>\n",
       "      <th>first</th>\n",
       "      <td>NaN</td>\n",
       "      <td>NaN</td>\n",
       "      <td>NaN</td>\n",
       "      <td>NaN</td>\n",
       "      <td>NaN</td>\n",
       "      <td>2012-01-28 00:00:00</td>\n",
       "    </tr>\n",
       "    <tr>\n",
       "      <th>last</th>\n",
       "      <td>NaN</td>\n",
       "      <td>NaN</td>\n",
       "      <td>NaN</td>\n",
       "      <td>NaN</td>\n",
       "      <td>NaN</td>\n",
       "      <td>2018-05-26 00:00:00</td>\n",
       "    </tr>\n",
       "  </tbody>\n",
       "</table>\n",
       "</div>"
      ],
      "text/plain": [
       "        category        headline authors  \\\n",
       "count     200853          200853  200853   \n",
       "unique        41          199344   27993   \n",
       "top     POLITICS  Sunday Roundup           \n",
       "freq       32739              90   36620   \n",
       "first        NaN             NaN     NaN   \n",
       "last         NaN             NaN     NaN   \n",
       "\n",
       "                                                     link short_description  \\\n",
       "count                                              200853            200853   \n",
       "unique                                             200812            178353   \n",
       "top     https://www.huffingtonpost.comhttp://pubx.co/p...                     \n",
       "freq                                                    2             19712   \n",
       "first                                                 NaN               NaN   \n",
       "last                                                  NaN               NaN   \n",
       "\n",
       "                       date  \n",
       "count                200853  \n",
       "unique                 2309  \n",
       "top     2012-12-21 00:00:00  \n",
       "freq                    100  \n",
       "first   2012-01-28 00:00:00  \n",
       "last    2018-05-26 00:00:00  "
      ]
     },
     "execution_count": 3,
     "metadata": {},
     "output_type": "execute_result"
    }
   ],
   "source": [
    "df.describe()"
   ]
  },
  {
   "cell_type": "markdown",
   "id": "3ef751fc",
   "metadata": {},
   "source": [
    "## Preparar los datos \n",
    "- Selección de columnas a usar (categoria, short_description)\n",
    "- Verificar existencia de valores Nulos\n",
    "- Verificar existencia de cadenas vacias\n",
    "- Eliminar en caso de exixtir cadenas vacias\n",
    "- Balancear Dataset"
   ]
  },
  {
   "cell_type": "markdown",
   "id": "334c60d2",
   "metadata": {},
   "source": [
    "## - Selección de columnas a usar (categoria, short_description)"
   ]
  },
  {
   "cell_type": "code",
   "execution_count": 4,
   "id": "a719e6b0",
   "metadata": {},
   "outputs": [
    {
     "data": {
      "text/html": [
       "<div>\n",
       "<style scoped>\n",
       "    .dataframe tbody tr th:only-of-type {\n",
       "        vertical-align: middle;\n",
       "    }\n",
       "\n",
       "    .dataframe tbody tr th {\n",
       "        vertical-align: top;\n",
       "    }\n",
       "\n",
       "    .dataframe thead th {\n",
       "        text-align: right;\n",
       "    }\n",
       "</style>\n",
       "<table border=\"1\" class=\"dataframe\">\n",
       "  <thead>\n",
       "    <tr style=\"text-align: right;\">\n",
       "      <th></th>\n",
       "      <th>category</th>\n",
       "      <th>short_description</th>\n",
       "    </tr>\n",
       "  </thead>\n",
       "  <tbody>\n",
       "    <tr>\n",
       "      <th>0</th>\n",
       "      <td>CRIME</td>\n",
       "      <td>She left her husband. He killed their children...</td>\n",
       "    </tr>\n",
       "    <tr>\n",
       "      <th>1</th>\n",
       "      <td>ENTERTAINMENT</td>\n",
       "      <td>Of course it has a song.</td>\n",
       "    </tr>\n",
       "    <tr>\n",
       "      <th>2</th>\n",
       "      <td>ENTERTAINMENT</td>\n",
       "      <td>The actor and his longtime girlfriend Anna Ebe...</td>\n",
       "    </tr>\n",
       "    <tr>\n",
       "      <th>3</th>\n",
       "      <td>ENTERTAINMENT</td>\n",
       "      <td>The actor gives Dems an ass-kicking for not fi...</td>\n",
       "    </tr>\n",
       "    <tr>\n",
       "      <th>4</th>\n",
       "      <td>ENTERTAINMENT</td>\n",
       "      <td>The \"Dietland\" actress said using the bags is ...</td>\n",
       "    </tr>\n",
       "    <tr>\n",
       "      <th>...</th>\n",
       "      <td>...</td>\n",
       "      <td>...</td>\n",
       "    </tr>\n",
       "    <tr>\n",
       "      <th>200848</th>\n",
       "      <td>TECH</td>\n",
       "      <td>Verizon Wireless and AT&amp;T are already promotin...</td>\n",
       "    </tr>\n",
       "    <tr>\n",
       "      <th>200849</th>\n",
       "      <td>SPORTS</td>\n",
       "      <td>Afterward, Azarenka, more effusive with the pr...</td>\n",
       "    </tr>\n",
       "    <tr>\n",
       "      <th>200850</th>\n",
       "      <td>SPORTS</td>\n",
       "      <td>Leading up to Super Bowl XLVI, the most talked...</td>\n",
       "    </tr>\n",
       "    <tr>\n",
       "      <th>200851</th>\n",
       "      <td>SPORTS</td>\n",
       "      <td>CORRECTION: An earlier version of this story i...</td>\n",
       "    </tr>\n",
       "    <tr>\n",
       "      <th>200852</th>\n",
       "      <td>SPORTS</td>\n",
       "      <td>The five-time all-star center tore into his te...</td>\n",
       "    </tr>\n",
       "  </tbody>\n",
       "</table>\n",
       "<p>200853 rows × 2 columns</p>\n",
       "</div>"
      ],
      "text/plain": [
       "             category                                  short_description\n",
       "0               CRIME  She left her husband. He killed their children...\n",
       "1       ENTERTAINMENT                           Of course it has a song.\n",
       "2       ENTERTAINMENT  The actor and his longtime girlfriend Anna Ebe...\n",
       "3       ENTERTAINMENT  The actor gives Dems an ass-kicking for not fi...\n",
       "4       ENTERTAINMENT  The \"Dietland\" actress said using the bags is ...\n",
       "...               ...                                                ...\n",
       "200848           TECH  Verizon Wireless and AT&T are already promotin...\n",
       "200849         SPORTS  Afterward, Azarenka, more effusive with the pr...\n",
       "200850         SPORTS  Leading up to Super Bowl XLVI, the most talked...\n",
       "200851         SPORTS  CORRECTION: An earlier version of this story i...\n",
       "200852         SPORTS  The five-time all-star center tore into his te...\n",
       "\n",
       "[200853 rows x 2 columns]"
      ]
     },
     "execution_count": 4,
     "metadata": {},
     "output_type": "execute_result"
    }
   ],
   "source": [
    "df1 = df.iloc[:,[0,4]]\n",
    "df1"
   ]
  },
  {
   "cell_type": "markdown",
   "id": "182b33b9",
   "metadata": {},
   "source": [
    "## Verificar existencia de valores Nulos"
   ]
  },
  {
   "cell_type": "code",
   "execution_count": 5,
   "id": "72488baf",
   "metadata": {},
   "outputs": [
    {
     "data": {
      "text/plain": [
       "category             0\n",
       "short_description    0\n",
       "dtype: int64"
      ]
     },
     "execution_count": 5,
     "metadata": {},
     "output_type": "execute_result"
    }
   ],
   "source": [
    "df1.isnull().sum()"
   ]
  },
  {
   "cell_type": "markdown",
   "id": "0b7facab",
   "metadata": {},
   "source": [
    "## Verificar existencia de cadenas vacias"
   ]
  },
  {
   "cell_type": "code",
   "execution_count": 6,
   "id": "db33d4a9",
   "metadata": {},
   "outputs": [
    {
     "data": {
      "text/plain": [
       "0         False\n",
       "1         False\n",
       "2         False\n",
       "3         False\n",
       "4         False\n",
       "          ...  \n",
       "200848    False\n",
       "200849    False\n",
       "200850    False\n",
       "200851    False\n",
       "200852    False\n",
       "Name: short_description, Length: 200853, dtype: bool"
      ]
     },
     "execution_count": 6,
     "metadata": {},
     "output_type": "execute_result"
    }
   ],
   "source": [
    "df_cadenavacia=df1['short_description']==''\n",
    "df_cadenavacia"
   ]
  },
  {
   "cell_type": "code",
   "execution_count": 7,
   "id": "75b8965c",
   "metadata": {},
   "outputs": [
    {
     "data": {
      "text/html": [
       "<div>\n",
       "<style scoped>\n",
       "    .dataframe tbody tr th:only-of-type {\n",
       "        vertical-align: middle;\n",
       "    }\n",
       "\n",
       "    .dataframe tbody tr th {\n",
       "        vertical-align: top;\n",
       "    }\n",
       "\n",
       "    .dataframe thead th {\n",
       "        text-align: right;\n",
       "    }\n",
       "</style>\n",
       "<table border=\"1\" class=\"dataframe\">\n",
       "  <thead>\n",
       "    <tr style=\"text-align: right;\">\n",
       "      <th></th>\n",
       "      <th>category</th>\n",
       "      <th>short_description</th>\n",
       "    </tr>\n",
       "  </thead>\n",
       "  <tbody>\n",
       "    <tr>\n",
       "      <th>12099</th>\n",
       "      <td>COMEDY</td>\n",
       "      <td></td>\n",
       "    </tr>\n",
       "    <tr>\n",
       "      <th>12849</th>\n",
       "      <td>WORLD NEWS</td>\n",
       "      <td></td>\n",
       "    </tr>\n",
       "    <tr>\n",
       "      <th>14119</th>\n",
       "      <td>WORLD NEWS</td>\n",
       "      <td></td>\n",
       "    </tr>\n",
       "    <tr>\n",
       "      <th>23549</th>\n",
       "      <td>TASTE</td>\n",
       "      <td></td>\n",
       "    </tr>\n",
       "    <tr>\n",
       "      <th>25814</th>\n",
       "      <td>COMEDY</td>\n",
       "      <td></td>\n",
       "    </tr>\n",
       "    <tr>\n",
       "      <th>...</th>\n",
       "      <td>...</td>\n",
       "      <td>...</td>\n",
       "    </tr>\n",
       "    <tr>\n",
       "      <th>198250</th>\n",
       "      <td>QUEER VOICES</td>\n",
       "      <td></td>\n",
       "    </tr>\n",
       "    <tr>\n",
       "      <th>198265</th>\n",
       "      <td>ENVIRONMENT</td>\n",
       "      <td></td>\n",
       "    </tr>\n",
       "    <tr>\n",
       "      <th>200129</th>\n",
       "      <td>IMPACT</td>\n",
       "      <td></td>\n",
       "    </tr>\n",
       "    <tr>\n",
       "      <th>200191</th>\n",
       "      <td>QUEER VOICES</td>\n",
       "      <td></td>\n",
       "    </tr>\n",
       "    <tr>\n",
       "      <th>200266</th>\n",
       "      <td>STYLE &amp; BEAUTY</td>\n",
       "      <td></td>\n",
       "    </tr>\n",
       "  </tbody>\n",
       "</table>\n",
       "<p>19712 rows × 2 columns</p>\n",
       "</div>"
      ],
      "text/plain": [
       "              category short_description\n",
       "12099           COMEDY                  \n",
       "12849       WORLD NEWS                  \n",
       "14119       WORLD NEWS                  \n",
       "23549            TASTE                  \n",
       "25814           COMEDY                  \n",
       "...                ...               ...\n",
       "198250    QUEER VOICES                  \n",
       "198265     ENVIRONMENT                  \n",
       "200129          IMPACT                  \n",
       "200191    QUEER VOICES                  \n",
       "200266  STYLE & BEAUTY                  \n",
       "\n",
       "[19712 rows x 2 columns]"
      ]
     },
     "execution_count": 7,
     "metadata": {},
     "output_type": "execute_result"
    }
   ],
   "source": [
    "df1[df_cadenavacia]"
   ]
  },
  {
   "cell_type": "markdown",
   "id": "ffda0ff8",
   "metadata": {},
   "source": [
    "## Eliminar en caso de exixtir cadenas vacias"
   ]
  },
  {
   "cell_type": "code",
   "execution_count": 8,
   "id": "0e5abe56",
   "metadata": {},
   "outputs": [
    {
     "data": {
      "text/html": [
       "<div>\n",
       "<style scoped>\n",
       "    .dataframe tbody tr th:only-of-type {\n",
       "        vertical-align: middle;\n",
       "    }\n",
       "\n",
       "    .dataframe tbody tr th {\n",
       "        vertical-align: top;\n",
       "    }\n",
       "\n",
       "    .dataframe thead th {\n",
       "        text-align: right;\n",
       "    }\n",
       "</style>\n",
       "<table border=\"1\" class=\"dataframe\">\n",
       "  <thead>\n",
       "    <tr style=\"text-align: right;\">\n",
       "      <th></th>\n",
       "      <th>category</th>\n",
       "      <th>short_description</th>\n",
       "    </tr>\n",
       "  </thead>\n",
       "  <tbody>\n",
       "    <tr>\n",
       "      <th>0</th>\n",
       "      <td>CRIME</td>\n",
       "      <td>She left her husband. He killed their children...</td>\n",
       "    </tr>\n",
       "    <tr>\n",
       "      <th>1</th>\n",
       "      <td>ENTERTAINMENT</td>\n",
       "      <td>Of course it has a song.</td>\n",
       "    </tr>\n",
       "    <tr>\n",
       "      <th>2</th>\n",
       "      <td>ENTERTAINMENT</td>\n",
       "      <td>The actor and his longtime girlfriend Anna Ebe...</td>\n",
       "    </tr>\n",
       "    <tr>\n",
       "      <th>3</th>\n",
       "      <td>ENTERTAINMENT</td>\n",
       "      <td>The actor gives Dems an ass-kicking for not fi...</td>\n",
       "    </tr>\n",
       "    <tr>\n",
       "      <th>4</th>\n",
       "      <td>ENTERTAINMENT</td>\n",
       "      <td>The \"Dietland\" actress said using the bags is ...</td>\n",
       "    </tr>\n",
       "    <tr>\n",
       "      <th>...</th>\n",
       "      <td>...</td>\n",
       "      <td>...</td>\n",
       "    </tr>\n",
       "    <tr>\n",
       "      <th>200848</th>\n",
       "      <td>TECH</td>\n",
       "      <td>Verizon Wireless and AT&amp;T are already promotin...</td>\n",
       "    </tr>\n",
       "    <tr>\n",
       "      <th>200849</th>\n",
       "      <td>SPORTS</td>\n",
       "      <td>Afterward, Azarenka, more effusive with the pr...</td>\n",
       "    </tr>\n",
       "    <tr>\n",
       "      <th>200850</th>\n",
       "      <td>SPORTS</td>\n",
       "      <td>Leading up to Super Bowl XLVI, the most talked...</td>\n",
       "    </tr>\n",
       "    <tr>\n",
       "      <th>200851</th>\n",
       "      <td>SPORTS</td>\n",
       "      <td>CORRECTION: An earlier version of this story i...</td>\n",
       "    </tr>\n",
       "    <tr>\n",
       "      <th>200852</th>\n",
       "      <td>SPORTS</td>\n",
       "      <td>The five-time all-star center tore into his te...</td>\n",
       "    </tr>\n",
       "  </tbody>\n",
       "</table>\n",
       "<p>181141 rows × 2 columns</p>\n",
       "</div>"
      ],
      "text/plain": [
       "             category                                  short_description\n",
       "0               CRIME  She left her husband. He killed their children...\n",
       "1       ENTERTAINMENT                           Of course it has a song.\n",
       "2       ENTERTAINMENT  The actor and his longtime girlfriend Anna Ebe...\n",
       "3       ENTERTAINMENT  The actor gives Dems an ass-kicking for not fi...\n",
       "4       ENTERTAINMENT  The \"Dietland\" actress said using the bags is ...\n",
       "...               ...                                                ...\n",
       "200848           TECH  Verizon Wireless and AT&T are already promotin...\n",
       "200849         SPORTS  Afterward, Azarenka, more effusive with the pr...\n",
       "200850         SPORTS  Leading up to Super Bowl XLVI, the most talked...\n",
       "200851         SPORTS  CORRECTION: An earlier version of this story i...\n",
       "200852         SPORTS  The five-time all-star center tore into his te...\n",
       "\n",
       "[181141 rows x 2 columns]"
      ]
     },
     "execution_count": 8,
     "metadata": {},
     "output_type": "execute_result"
    }
   ],
   "source": [
    "df_sinCadenasVacias=df1.drop(df1[df1[\"short_description\"]==\"\"].index)\n",
    "df_sinCadenasVacias"
   ]
  },
  {
   "cell_type": "code",
   "execution_count": 9,
   "id": "ed6063e1",
   "metadata": {},
   "outputs": [
    {
     "data": {
      "text/html": [
       "<div>\n",
       "<style scoped>\n",
       "    .dataframe tbody tr th:only-of-type {\n",
       "        vertical-align: middle;\n",
       "    }\n",
       "\n",
       "    .dataframe tbody tr th {\n",
       "        vertical-align: top;\n",
       "    }\n",
       "\n",
       "    .dataframe thead th {\n",
       "        text-align: right;\n",
       "    }\n",
       "</style>\n",
       "<table border=\"1\" class=\"dataframe\">\n",
       "  <thead>\n",
       "    <tr style=\"text-align: right;\">\n",
       "      <th></th>\n",
       "      <th>category</th>\n",
       "      <th>short_description</th>\n",
       "    </tr>\n",
       "  </thead>\n",
       "  <tbody>\n",
       "  </tbody>\n",
       "</table>\n",
       "</div>"
      ],
      "text/plain": [
       "Empty DataFrame\n",
       "Columns: [category, short_description]\n",
       "Index: []"
      ]
     },
     "execution_count": 9,
     "metadata": {},
     "output_type": "execute_result"
    }
   ],
   "source": [
    "dfp=df_sinCadenasVacias['short_description']==''\n",
    "df_sinCadenasVacias[dfp]"
   ]
  },
  {
   "cell_type": "markdown",
   "id": "3342dbd9",
   "metadata": {},
   "source": [
    "## Balancear Dataset"
   ]
  },
  {
   "cell_type": "code",
   "execution_count": 10,
   "id": "f37a3e54",
   "metadata": {},
   "outputs": [
    {
     "data": {
      "text/plain": [
       "category\n",
       "POLITICS          29578\n",
       "WELLNESS          17825\n",
       "ENTERTAINMENT     13470\n",
       "STYLE & BEAUTY     9637\n",
       "TRAVEL             9408\n",
       "PARENTING          8676\n",
       "FOOD & DRINK       6217\n",
       "QUEER VOICES       5570\n",
       "HEALTHY LIVING     5265\n",
       "BUSINESS           5077\n",
       "COMEDY             4417\n",
       "SPORTS             4221\n",
       "HOME & LIVING      4192\n",
       "BLACK VOICES       4122\n",
       "THE WORLDPOST      3664\n",
       "WEDDINGS           3651\n",
       "PARENTS            3556\n",
       "DIVORCE            3426\n",
       "WOMEN              3102\n",
       "IMPACT             3061\n",
       "CRIME              2675\n",
       "MEDIA              2275\n",
       "WEIRD NEWS         2209\n",
       "WORLD NEWS         2175\n",
       "TECH               2081\n",
       "GREEN              2046\n",
       "TASTE              1940\n",
       "RELIGION           1858\n",
       "SCIENCE            1775\n",
       "MONEY              1706\n",
       "STYLE              1567\n",
       "ARTS & CULTURE     1339\n",
       "ENVIRONMENT        1321\n",
       "WORLDPOST          1242\n",
       "FIFTY              1042\n",
       "GOOD NEWS          1039\n",
       "LATINO VOICES      1021\n",
       "CULTURE & ARTS     1019\n",
       "COLLEGE             921\n",
       "EDUCATION           892\n",
       "ARTS                863\n",
       "dtype: int64"
      ]
     },
     "execution_count": 10,
     "metadata": {},
     "output_type": "execute_result"
    }
   ],
   "source": [
    "df_sinCadenasVacias.value_counts('category')"
   ]
  },
  {
   "cell_type": "code",
   "execution_count": 11,
   "id": "ad9118bc",
   "metadata": {},
   "outputs": [
    {
     "data": {
      "text/html": [
       "<div>\n",
       "<style scoped>\n",
       "    .dataframe tbody tr th:only-of-type {\n",
       "        vertical-align: middle;\n",
       "    }\n",
       "\n",
       "    .dataframe tbody tr th {\n",
       "        vertical-align: top;\n",
       "    }\n",
       "\n",
       "    .dataframe thead th {\n",
       "        text-align: right;\n",
       "    }\n",
       "</style>\n",
       "<table border=\"1\" class=\"dataframe\">\n",
       "  <thead>\n",
       "    <tr style=\"text-align: right;\">\n",
       "      <th></th>\n",
       "      <th>short_description</th>\n",
       "      <th>category</th>\n",
       "    </tr>\n",
       "  </thead>\n",
       "  <tbody>\n",
       "    <tr>\n",
       "      <th>0</th>\n",
       "      <td>One could possibly think that the Dallas-Fort ...</td>\n",
       "      <td>ARTS</td>\n",
       "    </tr>\n",
       "    <tr>\n",
       "      <th>1</th>\n",
       "      <td>The conversation between Colm Tóibín and Richa...</td>\n",
       "      <td>ARTS</td>\n",
       "    </tr>\n",
       "    <tr>\n",
       "      <th>2</th>\n",
       "      <td>Mozart has yielded some incredible insights ab...</td>\n",
       "      <td>ARTS</td>\n",
       "    </tr>\n",
       "    <tr>\n",
       "      <th>3</th>\n",
       "      <td>American artist Jeff Koons (York, Pennsylvania...</td>\n",
       "      <td>ARTS</td>\n",
       "    </tr>\n",
       "    <tr>\n",
       "      <th>4</th>\n",
       "      <td>Born in New Zealand and now living in Australi...</td>\n",
       "      <td>ARTS</td>\n",
       "    </tr>\n",
       "    <tr>\n",
       "      <th>...</th>\n",
       "      <td>...</td>\n",
       "      <td>...</td>\n",
       "    </tr>\n",
       "    <tr>\n",
       "      <th>35378</th>\n",
       "      <td>People keep asking me what I think about Europ...</td>\n",
       "      <td>WORLDPOST</td>\n",
       "    </tr>\n",
       "    <tr>\n",
       "      <th>35379</th>\n",
       "      <td>The proliferation of Man-Portable Air Defense ...</td>\n",
       "      <td>WORLDPOST</td>\n",
       "    </tr>\n",
       "    <tr>\n",
       "      <th>35380</th>\n",
       "      <td>Courtesy of Malaysia Airlines Flight 17, Putin...</td>\n",
       "      <td>WORLDPOST</td>\n",
       "    </tr>\n",
       "    <tr>\n",
       "      <th>35381</th>\n",
       "      <td>ROME -- \"Welcome, this is a house for all. You...</td>\n",
       "      <td>WORLDPOST</td>\n",
       "    </tr>\n",
       "    <tr>\n",
       "      <th>35382</th>\n",
       "      <td>While peace talks are frozen, settlement expan...</td>\n",
       "      <td>WORLDPOST</td>\n",
       "    </tr>\n",
       "  </tbody>\n",
       "</table>\n",
       "<p>35383 rows × 2 columns</p>\n",
       "</div>"
      ],
      "text/plain": [
       "                                       short_description   category\n",
       "0      One could possibly think that the Dallas-Fort ...       ARTS\n",
       "1      The conversation between Colm Tóibín and Richa...       ARTS\n",
       "2      Mozart has yielded some incredible insights ab...       ARTS\n",
       "3      American artist Jeff Koons (York, Pennsylvania...       ARTS\n",
       "4      Born in New Zealand and now living in Australi...       ARTS\n",
       "...                                                  ...        ...\n",
       "35378  People keep asking me what I think about Europ...  WORLDPOST\n",
       "35379  The proliferation of Man-Portable Air Defense ...  WORLDPOST\n",
       "35380  Courtesy of Malaysia Airlines Flight 17, Putin...  WORLDPOST\n",
       "35381  ROME -- \"Welcome, this is a house for all. You...  WORLDPOST\n",
       "35382  While peace talks are frozen, settlement expan...  WORLDPOST\n",
       "\n",
       "[35383 rows x 2 columns]"
      ]
     },
     "execution_count": 11,
     "metadata": {},
     "output_type": "execute_result"
    }
   ],
   "source": [
    "from imblearn.under_sampling import RandomUnderSampler\n",
    "rus = RandomUnderSampler(random_state=0)\n",
    "df_balanceado, df_balanceado['category']=rus.fit_resample(df_sinCadenasVacias[['short_description']],df_sinCadenasVacias['category'])\n",
    "df_balanceado"
   ]
  },
  {
   "cell_type": "code",
   "execution_count": 12,
   "id": "82133cd0",
   "metadata": {},
   "outputs": [
    {
     "data": {
      "text/plain": [
       "category\n",
       "ARTS              863\n",
       "MONEY             863\n",
       "PARENTS           863\n",
       "POLITICS          863\n",
       "QUEER VOICES      863\n",
       "RELIGION          863\n",
       "SCIENCE           863\n",
       "SPORTS            863\n",
       "STYLE             863\n",
       "STYLE & BEAUTY    863\n",
       "TASTE             863\n",
       "TECH              863\n",
       "THE WORLDPOST     863\n",
       "TRAVEL            863\n",
       "WEDDINGS          863\n",
       "WEIRD NEWS        863\n",
       "WELLNESS          863\n",
       "WOMEN             863\n",
       "WORLD NEWS        863\n",
       "PARENTING         863\n",
       "MEDIA             863\n",
       "ARTS & CULTURE    863\n",
       "LATINO VOICES     863\n",
       "BLACK VOICES      863\n",
       "BUSINESS          863\n",
       "COLLEGE           863\n",
       "COMEDY            863\n",
       "CRIME             863\n",
       "CULTURE & ARTS    863\n",
       "DIVORCE           863\n",
       "EDUCATION         863\n",
       "ENTERTAINMENT     863\n",
       "ENVIRONMENT       863\n",
       "FIFTY             863\n",
       "FOOD & DRINK      863\n",
       "GOOD NEWS         863\n",
       "GREEN             863\n",
       "HEALTHY LIVING    863\n",
       "HOME & LIVING     863\n",
       "IMPACT            863\n",
       "WORLDPOST         863\n",
       "dtype: int64"
      ]
     },
     "execution_count": 12,
     "metadata": {},
     "output_type": "execute_result"
    }
   ],
   "source": [
    "df_balanceado.value_counts('category')"
   ]
  },
  {
   "cell_type": "markdown",
   "id": "e9cf6252",
   "metadata": {},
   "source": [
    "### Guardar Dataset tratado"
   ]
  },
  {
   "cell_type": "code",
   "execution_count": null,
   "id": "31ba262e",
   "metadata": {},
   "outputs": [],
   "source": [
    "df_balanceado.to_json('df_Balanceado_Guardado.json' )"
   ]
  },
  {
   "cell_type": "markdown",
   "id": "1e915118",
   "metadata": {},
   "source": [
    "## Train set y Test set"
   ]
  },
  {
   "cell_type": "code",
   "execution_count": null,
   "id": "55720919",
   "metadata": {},
   "outputs": [],
   "source": [
    "X = df_balanceado.iloc[:,0]\n",
    "y = df_balanceado.iloc[:,1].values"
   ]
  },
  {
   "cell_type": "code",
   "execution_count": null,
   "id": "cf0b4b08",
   "metadata": {},
   "outputs": [],
   "source": [
    "print(X.head())\n",
    "print('-----------------------')\n",
    "print(y)"
   ]
  },
  {
   "cell_type": "code",
   "execution_count": null,
   "id": "9e635b57",
   "metadata": {},
   "outputs": [],
   "source": [
    "#Obtener el conjunto de entrenamiento y de prueba\n",
    "from sklearn.model_selection import train_test_split\n",
    "X_train,X_test,y_train,y_test=train_test_split(X,y,test_size=0.2,random_state=0)"
   ]
  },
  {
   "cell_type": "code",
   "execution_count": null,
   "id": "6deb8d52",
   "metadata": {},
   "outputs": [],
   "source": [
    "print('Numero de registros X_train:'X_train.shape)\n",
    "print('Numero de registros X_test:'X_test.shape)"
   ]
  },
  {
   "cell_type": "markdown",
   "id": "4b2f81c5",
   "metadata": {},
   "source": [
    "## TfidfVectorizer (TF-IDF(Frecuencia de Término – Frecuencia Inversa de Documento))\n",
    "- Obtener las frecuencias de cada palabra, tokenizar, obtener la bolsa de palabras, le da mayor importancia a las palabras que no aparecen en el resto de los registros, se eliminan los stops words"
   ]
  },
  {
   "cell_type": "code",
   "execution_count": null,
   "id": "fb54773b",
   "metadata": {},
   "outputs": [],
   "source": [
    "from sklearn.feature_extraction.text import TfidfVectorizer\n",
    "tfidf = TfidfVectorizer(stop_words='english')\n",
    "X_train_numeros=tfidf.fit_transform(X_train)\n",
    "X_test_numeros = tfidf.transform(X_test)"
   ]
  },
  {
   "cell_type": "code",
   "execution_count": null,
   "id": "b3586414",
   "metadata": {},
   "outputs": [],
   "source": [
    "tfidf.vocabulary_"
   ]
  },
  {
   "cell_type": "code",
   "execution_count": null,
   "id": "790cbac6",
   "metadata": {},
   "outputs": [],
   "source": [
    "tfidf.idf_"
   ]
  },
  {
   "cell_type": "code",
   "execution_count": null,
   "id": "e15b8291",
   "metadata": {},
   "outputs": [],
   "source": [
    "tfidf.get_feature_names()"
   ]
  },
  {
   "cell_type": "code",
   "execution_count": null,
   "id": "ed96f0b9",
   "metadata": {},
   "outputs": [],
   "source": [
    "print(X_train_numeros.shape)"
   ]
  },
  {
   "cell_type": "code",
   "execution_count": null,
   "id": "afcc2991",
   "metadata": {},
   "outputs": [],
   "source": [
    "pd.DataFrame.sparse.from_spmatrix(X_train_numeros,index=X_train.index,columns=tfidf.get_feature_names_out())"
   ]
  },
  {
   "cell_type": "markdown",
   "id": "f028deb6",
   "metadata": {},
   "source": [
    "## Modelo a usar SVM"
   ]
  },
  {
   "cell_type": "code",
   "execution_count": null,
   "id": "c443db93",
   "metadata": {},
   "outputs": [],
   "source": [
    "from sklearn.svm import SVC\n",
    "svc = SVC(kernel='linear')\n",
    "svc.fit(X_train_numeros, y_train)"
   ]
  },
  {
   "cell_type": "code",
   "execution_count": null,
   "id": "c8a0aaa9",
   "metadata": {},
   "outputs": [],
   "source": [
    "print(svc.predict(tfidf.transform(['In one text message, Jacqueline Ades allegedly told her date she d like to bathe in his blood.'])))\n",
    "print(svc.predict(tfidf.transform(['A nasty primary race has made the congressional candidate tell the difficult story of escaping her violent ex-husband'])))\n",
    "print(svc.predict(tfidf.transform(['The five-time all-star center tore into his teammates Friday night after Orlando committed 23 turnovers en route to losing'])))\n",
    "print(svc.predict(tfidf.transform(['Maria married the best singer in the United States'])))\n",
    "print(svc.predict(tfidf.transform(['american football game in mexico'])))\n",
    "print(svc.predict(tfidf.transform(['E-cigarettes are also dangerous. The WHO revealed that the smoke produced by these devices is as unhealthy as the one that comes from common cigarettes'])))"
   ]
  },
  {
   "cell_type": "code",
   "execution_count": null,
   "id": "7433477e",
   "metadata": {},
   "outputs": [],
   "source": [
    "#Realizando predicciones\n",
    "y_predsvc=svc.predict(X_test_numeros[0:1000])"
   ]
  },
  {
   "cell_type": "code",
   "execution_count": null,
   "id": "a686f956",
   "metadata": {},
   "outputs": [],
   "source": [
    "#sklearn tiene una funcion para generar la matriz de confusion en sklearn.mestrics\n",
    "cmsvc=confusion_matrix(y_test[0:1000],y_predsvc)\n",
    "print(cmsvc)"
   ]
  },
  {
   "cell_type": "code",
   "execution_count": null,
   "id": "607e40b2",
   "metadata": {},
   "outputs": [],
   "source": [
    "f1scoresvc = f1_score(y_test[0:1000],y_predsvc, average = 'macro')\n",
    "print(\"F1-score: \",f1scoresvc)"
   ]
  },
  {
   "cell_type": "code",
   "execution_count": null,
   "id": "2a9dad16",
   "metadata": {},
   "outputs": [],
   "source": [
    "precisionsvc = precision_score(y_test[0:1000],y_predsvc, average ='macro')\n",
    "print(\"Precision: \",precisionsvc)"
   ]
  },
  {
   "cell_type": "code",
   "execution_count": null,
   "id": "7d37146c",
   "metadata": {},
   "outputs": [],
   "source": [
    "from sklearn.metrics import accuracy_score\n",
    "print(\"Accuracy_score:\", accuracy_score(y_test[0:1000],y_predsvc))"
   ]
  },
  {
   "cell_type": "code",
   "execution_count": null,
   "id": "281f9812",
   "metadata": {},
   "outputs": [],
   "source": [
    "svc.score(X_test_numeros, y_test)"
   ]
  },
  {
   "cell_type": "code",
   "execution_count": null,
   "id": "78c7ba8e",
   "metadata": {},
   "outputs": [],
   "source": [
    "import joblib\n",
    "joblib.dump(svc, 'modelo_entrenado_svc.pkl') # Guardo el modelo."
   ]
  },
  {
   "cell_type": "code",
   "execution_count": null,
   "id": "ec37408a",
   "metadata": {},
   "outputs": [],
   "source": []
  }
 ],
 "metadata": {
  "kernelspec": {
   "display_name": "Python 3 (ipykernel)",
   "language": "python",
   "name": "python3"
  },
  "language_info": {
   "codemirror_mode": {
    "name": "ipython",
    "version": 3
   },
   "file_extension": ".py",
   "mimetype": "text/x-python",
   "name": "python",
   "nbconvert_exporter": "python",
   "pygments_lexer": "ipython3",
   "version": "3.8.8"
  }
 },
 "nbformat": 4,
 "nbformat_minor": 5
}
